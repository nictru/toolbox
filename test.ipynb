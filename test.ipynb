{
 "cells": [
  {
   "cell_type": "code",
   "execution_count": null,
   "metadata": {},
   "outputs": [],
   "source": [
    "from lib.BiCoN import bicon\n",
    "import pandas as pd\n",
    "from bicon import data_preprocessing, BiCoN, results_analysis"
   ]
  },
  {
   "cell_type": "code",
   "execution_count": null,
   "metadata": {},
   "outputs": [],
   "source": [
    "expression_data = \"test_data/bicon/entrez.csv\"\n",
    "interaction_data = \"test_data/bicon/biogrid.human.entrez.tsv\""
   ]
  },
  {
   "cell_type": "code",
   "execution_count": null,
   "metadata": {},
   "outputs": [],
   "source": [
    "bicon(\"out\", pd.read_csv(expression_data), interaction_data)"
   ]
  }
 ],
 "metadata": {
  "kernelspec": {
   "display_name": "bioinformatics",
   "language": "python",
   "name": "python3"
  },
  "language_info": {
   "codemirror_mode": {
    "name": "ipython",
    "version": 3
   },
   "file_extension": ".py",
   "mimetype": "text/x-python",
   "name": "python",
   "nbconvert_exporter": "python",
   "pygments_lexer": "ipython3",
   "version": "3.10.9"
  },
  "orig_nbformat": 4,
  "vscode": {
   "interpreter": {
    "hash": "93156862250917c864e69e51ca39364f376af92f58451cdc59cb09435891bb7d"
   }
  }
 },
 "nbformat": 4,
 "nbformat_minor": 2
}
